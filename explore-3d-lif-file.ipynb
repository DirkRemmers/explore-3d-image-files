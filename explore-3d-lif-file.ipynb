{
 "cells": [
  {
   "cell_type": "code",
   "execution_count": 1,
   "metadata": {},
   "outputs": [],
   "source": [
    "from PIL import Image\n",
    "from readlif.reader import LifFile\n",
    "import numpy as np\n",
    "import napari\n",
    "import ipywidgets as widgets\n",
    "import os"
   ]
  },
  {
   "cell_type": "code",
   "execution_count": 2,
   "metadata": {},
   "outputs": [],
   "source": [
    "def collect_images(raw_data, img_sel):\n",
    "    image_dict_list = []\n",
    "\n",
    "    # check how many stacks, channels and mosaics there are\n",
    "    raw_image = raw_data.get_image(img_sel)\n",
    "    image_name = raw_image.name\n",
    "    scale = tuple(abs(1/x) for x in raw_image.scale if x != None)\n",
    "    z_nr_list = list(range(0,len([i for i in raw_image.get_iter_z()])))\n",
    "    c_nr_list = list(range(0,len([i for i in raw_image.get_iter_c()])))\n",
    "    m_nr_list = list(range(0,len([i for i in raw_image.get_iter_m()])))\n",
    "    DimX = raw_image.dims[0]\n",
    "    DimY = raw_image.dims[1]\n",
    "    DimZ = raw_image.dims[2]\n",
    "\n",
    "    # get info on if it is a mosaic tile\n",
    "    M_positions = raw_image.mosaic_position # list with lenght of nr mosaics, each tuple contains (FieldX, FieldY, PosX, PosY)\n",
    "    mosaic_list = list(range(0,len(M_positions)))\n",
    "    mosaic_indication = 1\n",
    "    if mosaic_list == []:\n",
    "        mosaic_list = [0]\n",
    "        mosaic_indication = 0 \n",
    "\n",
    "    for m in m_nr_list:\n",
    "        # collect info\n",
    "        image_dict = {}\n",
    "        image_dict['image_name'] = image_name\n",
    "        image_dict['i_nr'] = img_sel\n",
    "        image_dict['m_nr'] = m\n",
    "        image_dict['scale'] = scale\n",
    "        image_dict['M_positions'] = M_positions\n",
    "        image_dict['DimX'] = DimX\n",
    "        image_dict['DimY'] = DimY\n",
    "        image_dict['DimZ'] = DimZ\n",
    "        # create 2d numpy array's per channel\n",
    "        channel_dict = {}\n",
    "        for c_nr in c_nr_list:\n",
    "            for z_nr in z_nr_list:\n",
    "                if z_nr == 0:\n",
    "                    layers = []\n",
    "                \n",
    "                layer = np.asarray(raw_image.get_frame(z = z_nr, t = 0, c = c_nr, m = m))\n",
    "                layers.append(layer)\n",
    "            layers = np.stack(layers, axis = 2)  \n",
    "            image_dict[f'channel_{c_nr}_image'] = layers\n",
    "        \n",
    "        image_dict_list.append(image_dict)\n",
    "        \n",
    "    return image_dict_list\n",
    "\n",
    "def get_rgb(color):\n",
    "    if color == 'blue':\n",
    "        rgb = (0,0,1)\n",
    "    elif color == 'green':\n",
    "        rgb = (0,1,0)\n",
    "    elif color == 'red':\n",
    "        rgb = (1,0,0)\n",
    "    elif color == 'yellow':\n",
    "        rgb = (1,1,0)\n",
    "    elif color == 'cyan':\n",
    "        rgb = (0,1,1)\n",
    "    elif color == 'magenta':\n",
    "        rgb = (1,0,1)\n",
    "    return rgb\n",
    "\n",
    "def convert_intensity_range(img, target_type_min, target_type_max, target_type, min_quantile = False, max_quantile = False):\n",
    "    imin = img.min()\n",
    "    # correct if the image is binary and find min value\n",
    "    if imin == False:\n",
    "        img = img*1\n",
    "        imin = img.min()\n",
    "    if min_quantile != False:\n",
    "        imin = np.quantile(img, q = min_quantile)\n",
    "        \n",
    "    # find max value\n",
    "    imax = img.max()\n",
    "    if max_quantile != False:\n",
    "        imax = np.quantile(img, q = max_quantile)\n",
    "    \n",
    "    # build new image\n",
    "    a = (target_type_max - target_type_min) / (imax - imin)\n",
    "    b = target_type_max - a * imax\n",
    "    new_img = (a * img + b)\n",
    "    new_img[new_img>255] = 255\n",
    "    new_img[new_img<0] = 0\n",
    "    new_img = new_img.astype(target_type)\n",
    "    return new_img"
   ]
  },
  {
   "cell_type": "code",
   "execution_count": 3,
   "metadata": {},
   "outputs": [
    {
     "data": {
      "application/vnd.jupyter.widget-view+json": {
       "model_id": "7a18078a31414070b50aba881089c74c",
       "version_major": 2,
       "version_minor": 0
      },
      "text/plain": [
       "Dropdown(description='Image name', options=('FITC_microcarriers_20220621.lif', 'alginate-beads-DO.lif', 'Exp.2…"
      ]
     },
     "metadata": {},
     "output_type": "display_data"
    }
   ],
   "source": [
    "location = 'test-files'\n",
    "file_list = [f for f in os.listdir(location) if os.path.isfile(os.path.join(location, f))]\n",
    "\n",
    "file_selection = widgets.Dropdown(options = file_list, description = 'Image name')\n",
    "display(file_selection)"
   ]
  },
  {
   "cell_type": "code",
   "execution_count": 4,
   "metadata": {},
   "outputs": [
    {
     "data": {
      "application/vnd.jupyter.widget-view+json": {
       "model_id": "ef728af91dc045b280bb0945ad799cfb",
       "version_major": 2,
       "version_minor": 0
      },
      "text/plain": [
       "Dropdown(description='Image name', options=('40ugml-PBS/40ugml-PBS_1', '40ugml-PBS/40ugml-PBS_2', '40ugml-Medi…"
      ]
     },
     "metadata": {},
     "output_type": "display_data"
    }
   ],
   "source": [
    "raw_data = LifFile(f\"{location}/{file_selection.value}\")\n",
    "image_list = list(range(0,len([i for i in raw_data.get_iter_image()])))\n",
    "image_name_list = []\n",
    "for i in image_list:\n",
    "    raw_image = raw_data.get_image(i)\n",
    "    image_name_list.append(raw_image.name)\n",
    "\n",
    "image_selection = widgets.Dropdown(options = image_name_list, description = 'Image name')\n",
    "display(image_selection)"
   ]
  },
  {
   "cell_type": "code",
   "execution_count": 5,
   "metadata": {},
   "outputs": [
    {
     "name": "stdout",
     "output_type": "stream",
     "text": [
      "Since the image shape is (2048, 2048, 1), you can likely visualize the entire image.\n"
     ]
    }
   ],
   "source": [
    "# select image\n",
    "image_sel = [n for n, x in enumerate(image_name_list) if x == image_selection.value][0]\n",
    "image_dict_list = collect_images(raw_data, image_sel)\n",
    "\n",
    "# build the large image framework\n",
    "image_dict = image_dict_list[0]\n",
    "# find image dimensions\n",
    "DimX = image_dict['DimX']\n",
    "DimY = image_dict['DimY']\n",
    "M_positions = image_dict['M_positions']\n",
    "scale = image_dict['scale']\n",
    "\n",
    "if M_positions != []:\n",
    "    empty_image = None\n",
    "    if empty_image==None:\n",
    "        # find MaxX and MaxY\n",
    "        MaxX = max(M_positions, key= lambda x: x[0])[0]\n",
    "        MaxY = max(M_positions, key= lambda x: x[1])[1]\n",
    "        MaxZ = image_dict['DimZ']\n",
    "        empty_image = np.zeros(((DimY * (MaxY+1)), (DimX * (MaxX+1)), MaxZ))\n",
    "else:\n",
    "    empty_image = np.zeros_like(image_dict['channel_0_image'])\n",
    "\n",
    "if empty_image.shape[0] > 2048 and empty_image.shape[2] > 10:\n",
    "    print(f\"Since the image shape is {empty_image.shape}, it is recommended to visualize individual mosaics.\")\n",
    "    print(f\"There are {len(M_positions)} mosaic tiles.\")\n",
    "    vis_mosaic = True\n",
    "else:\n",
    "    print(f\"Since the image shape is {empty_image.shape}, you can likely visualize the entire image.\")\n",
    "    vis_mosaic = False\n",
    "\n",
    "# uncomment if you want to see the entire image\n",
    "# vis_mosaic = False\n",
    "\n",
    "# build the large image for all channels\n",
    "if vis_mosaic == False:\n",
    "    visualization_image_dict = {}\n",
    "    for image_dict in image_dict_list:\n",
    "        # find sub-image specific x-y coords        \n",
    "        m_nr = image_dict['m_nr']\n",
    "        if M_positions != []:\n",
    "            FieldX = M_positions[m_nr][0]\n",
    "            FieldY = M_positions[m_nr][1]\n",
    "\n",
    "            # find coordinates in merged image\n",
    "            Min_PixX = FieldX * DimX\n",
    "            Max_PixX = ((FieldX+1) * DimX)\n",
    "            Min_PixY = FieldY * DimY\n",
    "            Max_PixY = ((FieldY+1) * DimY)\n",
    "            \n",
    "            for name, channel_image in [(name, img) for name, img in image_dict.items() if 'channel' in name ]:\n",
    "                if name not in visualization_image_dict.keys():\n",
    "                    visualization_image_dict[name] = empty_image.copy()\n",
    "           \n",
    "                # fill in the image\n",
    "                visualization_image_dict[name][Min_PixY:Max_PixY, Min_PixX:Max_PixX, 0:MaxZ] = channel_image\n",
    "        else:\n",
    "            for name, channel_image in [(name, img) for name, img in image_dict.items() if 'channel' in name ]:\n",
    "                visualization_image_dict[name] = channel_image\n",
    "elif vis_mosaic == True:\n",
    "    mosaic_selection = widgets.IntSlider(min=0,max=(len(M_positions)-1))\n",
    "    display(mosaic_selection)"
   ]
  },
  {
   "cell_type": "code",
   "execution_count": 8,
   "metadata": {},
   "outputs": [
    {
     "name": "stderr",
     "output_type": "stream",
     "text": [
      "/home/dirk/miniconda3/envs/image-analysis/lib/python3.8/site-packages/napari_tools_menu/__init__.py:179: FutureWarning: Public access to Window.qt_viewer is deprecated and will be removed in\n",
      "v0.5.0. It is considered an \"implementation detail\" of the napari\n",
      "application, not part of the napari viewer model. If your use case\n",
      "requires access to qt_viewer, please open an issue to discuss.\n",
      "  self.tools_menu = ToolsMenu(self, self.qt_viewer.viewer)\n"
     ]
    }
   ],
   "source": [
    "if vis_mosaic == True:\n",
    "    mosaic_sel = mosaic_selection.value\n",
    "    visualization_image_dict = {}\n",
    "    for image_dict in image_dict_list:\n",
    "        if image_dict['m_nr'] == mosaic_sel:\n",
    "            for name, channel_image in [(name, img) for name, img in image_dict.items() if 'channel' in name ]:\n",
    "                if name not in visualization_image_dict.keys():\n",
    "                    visualization_image_dict[name] = channel_image\n",
    "                    \n",
    "color_list = ['blue', 'green', 'red', 'yellow', 'magenta', 'cyan']\n",
    "\n",
    "viewer = napari.Viewer()\n",
    "for n,image in enumerate(visualization_image_dict.values()):\n",
    "    viewer.add_image(image, colormap=color_list[n], blending='additive', scale = scale)\n",
    "\n",
    "viewer.dims.ndisplay = 3\n",
    "viewer.dims.order = (2,1,0)\n",
    "    "
   ]
  }
 ],
 "metadata": {
  "interpreter": {
   "hash": "2614d2f8eb5189b57b8ddd674157c9ffc8a25fbb1b8dea4923aea03678f03553"
  },
  "kernelspec": {
   "display_name": "Python 3.8.5 ('image-analysis')",
   "language": "python",
   "name": "python3"
  },
  "language_info": {
   "codemirror_mode": {
    "name": "ipython",
    "version": 3
   },
   "file_extension": ".py",
   "mimetype": "text/x-python",
   "name": "python",
   "nbconvert_exporter": "python",
   "pygments_lexer": "ipython3",
   "version": "3.8.5"
  },
  "orig_nbformat": 4
 },
 "nbformat": 4,
 "nbformat_minor": 2
}
